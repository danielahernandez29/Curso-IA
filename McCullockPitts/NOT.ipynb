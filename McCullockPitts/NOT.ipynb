{
  "nbformat": 4,
  "nbformat_minor": 0,
  "metadata": {
    "colab": {
      "provenance": [],
      "authorship_tag": "ABX9TyP9fbDvnl775I2bn12O3E3u",
      "include_colab_link": true
    },
    "kernelspec": {
      "name": "python3",
      "display_name": "Python 3"
    },
    "language_info": {
      "name": "python"
    }
  },
  "cells": [
    {
      "cell_type": "markdown",
      "metadata": {
        "id": "view-in-github",
        "colab_type": "text"
      },
      "source": [
        "<a href=\"https://colab.research.google.com/github/danielahernandez29/Curso-IA/blob/main/McCullockPitts/NOT.ipynb\" target=\"_parent\"><img src=\"https://colab.research.google.com/assets/colab-badge.svg\" alt=\"Open In Colab\"/></a>"
      ]
    },
    {
      "cell_type": "code",
      "source": [
        "import numpy as np\n",
        "\n",
        "# Estas son las entradas. Solo hay una entrada en cada caso.\n",
        "X = np.array([\n",
        "    [0],  # Primer caso: la entrada es 0\n",
        "    [1]   # Segundo caso: la entrada es 1\n",
        "])\n",
        "\n",
        "# Estas son las salidas que quiero que la neurona aprenda.\n",
        "\n",
        "Y = np.array([1, 0])  # Si entra 0, quiero que salga 1. Si entra 1, quiero que salga 0.\n",
        "\n",
        "# Este es el peso que le doy a la entrada. Uso -1 para que invierta el valor.\n",
        "W = [-1]\n",
        "\n",
        "umbral = 0  # Con este umbral, solo se activa si la suma es mayor o igual a 0.\n",
        "\n",
        "class McCullochPitts:\n",
        "    def __init__(self, weights, umbral):\n",
        "        # Cuando creo la neurona, le paso los pesos y el umbral\n",
        "        self.weights = weights\n",
        "        self.umbral = umbral\n",
        "\n",
        "    def predict(self, X):\n",
        "\n",
        "        predictions = []  # Aquí voy a guardar las salidas (resultados)\n",
        "\n",
        "        for i in range(X.shape[0]):  # Recorro todas las entradas\n",
        "            # Multiplico la entrada por el peso (producto punto)\n",
        "            weighted_sum = np.dot(self.weights, X[i].flatten())\n",
        "\n",
        "            # Muestro qué entrada estoy usando y cuánto da la suma ponderada\n",
        "            print(f\"Input: {X[i][0]}, Weighted Sum: {weighted_sum}\")\n",
        "\n",
        "            # Si la suma es mayor o igual que el umbral, la neurona da 1\n",
        "            if weighted_sum >= self.umbral:\n",
        "                predictions.append(1)\n",
        "            else:\n",
        "                predictions.append(0)  # Si no, da 0\n",
        "        return predictions\n",
        "\n",
        "# Instanciamos la clase McCullochPitts\n",
        "mcp = McCullochPitts(W, umbral)\n",
        "# Calculamos las predicciones\n",
        "predictions = mcp.predict(X)\n",
        "# Mostramos el resultado final\n",
        "print(\"Predictions (NOT):\", predictions)\n"
      ],
      "metadata": {
        "colab": {
          "base_uri": "https://localhost:8080/"
        },
        "id": "t__Xrzk9LYoF",
        "outputId": "19125a66-0370-46f8-d14d-5cf888a0ebf9"
      },
      "execution_count": 3,
      "outputs": [
        {
          "output_type": "stream",
          "name": "stdout",
          "text": [
            "Input: 0, Weighted Sum: 0\n",
            "Input: 1, Weighted Sum: -1\n",
            "Predictions (NOT): [1, 0]\n"
          ]
        }
      ]
    }
  ]
}