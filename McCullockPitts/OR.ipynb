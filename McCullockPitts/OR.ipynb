{
  "nbformat": 4,
  "nbformat_minor": 0,
  "metadata": {
    "colab": {
      "provenance": [],
      "authorship_tag": "ABX9TyONJ5eYm/4JXlXj1zIwO7+C",
      "include_colab_link": true
    },
    "kernelspec": {
      "name": "python3",
      "display_name": "Python 3"
    },
    "language_info": {
      "name": "python"
    }
  },
  "cells": [
    {
      "cell_type": "markdown",
      "metadata": {
        "id": "view-in-github",
        "colab_type": "text"
      },
      "source": [
        "<a href=\"https://colab.research.google.com/github/danielahernandez29/Curso-IA/blob/main/McCullockPitts/OR.ipynb\" target=\"_parent\"><img src=\"https://colab.research.google.com/assets/colab-badge.svg\" alt=\"Open In Colab\"/></a>"
      ]
    },
    {
      "cell_type": "code",
      "execution_count": 1,
      "metadata": {
        "colab": {
          "base_uri": "https://localhost:8080/"
        },
        "id": "AMY7NdYHVfh9",
        "outputId": "c932f26d-a131-41bc-bb5b-09670c82c2e9"
      },
      "outputs": [
        {
          "output_type": "stream",
          "name": "stdout",
          "text": [
            "Input: [0 0], Weighted Sum: 0\n",
            "Input: [0 1], Weighted Sum: 1\n",
            "Input: [1 0], Weighted Sum: 1\n",
            "Input: [1 1], Weighted Sum: 2\n",
            "Predictions (OR): [0, 1, 1, 1]\n"
          ]
        }
      ],
      "source": [
        "import numpy as np\n",
        "\n",
        "# Estas son las entradas. Cada fila representa un caso.\n",
        "X = np.array([\n",
        "    [0, 0],  # Primer caso\n",
        "    [0, 1],  # Segundo caso\n",
        "    [1, 0],  # Tercer caso\n",
        "    [1, 1]   # Cuarto caso\n",
        "])\n",
        "\n",
        "# Estas son las salidas que quiero que la neurona aprenda (operación OR)\n",
        "Y = np.array([0, 1, 1, 1])  # Solo da 0 cuando ambas entradas son 0\n",
        "\n",
        "# Este es el peso que le doy a cada entrada. Positivo para activar si hay un 1.\n",
        "W = [1, 1]\n",
        "\n",
        "umbral = 1  # Se activa si la suma ponderada es mayor o igual a 1.\n",
        "\n",
        "class McCullochPitts:\n",
        "    def __init__(self, weights, umbral):\n",
        "        # Cuando creo la neurona, le paso los pesos y el umbral\n",
        "        self.weights = weights\n",
        "        self.umbral = umbral\n",
        "\n",
        "    def predict(self, X):\n",
        "\n",
        "        predictions = []  # Aquí voy a guardar las salidas (resultados)\n",
        "\n",
        "        for i in range(X.shape[0]):  # Recorro todas las entradas\n",
        "            # Multiplico la entrada por el peso (producto punto)\n",
        "            weighted_sum = np.dot(self.weights, X[i].flatten())\n",
        "\n",
        "            # Muestro qué entrada estoy usando y cuánto da la suma ponderada\n",
        "            print(f\"Input: {X[i]}, Weighted Sum: {weighted_sum}\")\n",
        "\n",
        "            # Si la suma es mayor o igual que el umbral, la neurona da 1\n",
        "            if weighted_sum >= self.umbral:\n",
        "                predictions.append(1)\n",
        "            else:\n",
        "                predictions.append(0)  # Si no, da 0\n",
        "        return predictions\n",
        "\n",
        "# Instanciamos la clase McCullochPitts\n",
        "mcp = McCullochPitts(W, umbral)\n",
        "\n",
        "# Calculamos las predicciones\n",
        "predictions = mcp.predict(X)\n",
        "\n",
        "# Mostramos el resultado final\n",
        "print(\"Predictions (OR):\", predictions)"
      ]
    },
    {
      "cell_type": "code",
      "source": [
        "import numpy as np\n",
        "\n",
        "# Estas son las entradas. Cada fila representa un caso.\n",
        "X = np.array([\n",
        "    [0, 0],  # Primer caso\n",
        "    [0, 1],  # Segundo caso\n",
        "    [1, 0],  # Tercer caso\n",
        "    [1, 1]   # Cuarto caso\n",
        "])\n",
        "\n",
        "# Estas son las salidas que quiero que la neurona aprenda (operación AND)\n",
        "Y = np.array([0, 0, 0, 1])  # Solo da 1 cuando ambas entradas son 1\n",
        "\n",
        "# Este es el peso que le doy a cada entrada. Positivo porque las entradas suman.\n",
        "W = [1, 1]\n",
        "\n",
        "umbral = 2  # Solo se activa si la suma es mayor o igual a 2.\n",
        "\n",
        "class McCullochPitts:\n",
        "    def __init__(self, weights, umbral):\n",
        "        # Cuando creo la neurona, le paso los pesos y el umbral\n",
        "        self.weights = weights\n",
        "        self.umbral = umbral\n",
        "\n",
        "    def predict(self, X):\n",
        "\n",
        "        predictions = []  # Aquí voy a guardar las salidas (resultados)\n",
        "\n",
        "        for i in range(X.shape[0]):  # Recorro todas las entradas\n",
        "            # Multiplico la entrada por el peso (producto punto)\n",
        "            weighted_sum = np.dot(self.weights, X[i].flatten())\n",
        "\n",
        "            # Muestro qué entrada estoy usando y cuánto da la suma ponderada\n",
        "            print(f\"Input: {X[i]}, Weighted Sum: {weighted_sum}\")\n",
        "\n",
        "            # Si la suma es mayor o igual que el umbral, la neurona da 1\n",
        "            if weighted_sum >= self.umbral:\n",
        "                predictions.append(1)\n",
        "            else:\n",
        "                predictions.append(0)  # Si no, da 0\n",
        "        return predictions\n",
        "\n",
        "# Instanciamos la clase McCullochPitts\n",
        "mcp = McCullochPitts(W, umbral)\n",
        "\n",
        "# Calculamos las predicciones\n",
        "predictions = mcp.predict(X)\n",
        "\n",
        "# Mostramos el resultado final\n",
        "print(\"Predictions (AND):\", predictions)\n"
      ],
      "metadata": {
        "colab": {
          "base_uri": "https://localhost:8080/"
        },
        "id": "XFOcSMv6Vslj",
        "outputId": "fb6ad66d-71e8-44d4-8a27-fc53faef4399"
      },
      "execution_count": 2,
      "outputs": [
        {
          "output_type": "stream",
          "name": "stdout",
          "text": [
            "Input: [0 0], Weighted Sum: 0\n",
            "Input: [0 1], Weighted Sum: 1\n",
            "Input: [1 0], Weighted Sum: 1\n",
            "Input: [1 1], Weighted Sum: 2\n",
            "Predictions (AND): [0, 0, 0, 1]\n"
          ]
        }
      ]
    }
  ]
}