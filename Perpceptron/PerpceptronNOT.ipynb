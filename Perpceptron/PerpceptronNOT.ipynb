{
  "nbformat": 4,
  "nbformat_minor": 0,
  "metadata": {
    "colab": {
      "provenance": [],
      "authorship_tag": "ABX9TyOUO+KPI8bpg9iPRiKr2L+u",
      "include_colab_link": true
    },
    "kernelspec": {
      "name": "python3",
      "display_name": "Python 3"
    },
    "language_info": {
      "name": "python"
    }
  },
  "cells": [
    {
      "cell_type": "markdown",
      "metadata": {
        "id": "view-in-github",
        "colab_type": "text"
      },
      "source": [
        "<a href=\"https://colab.research.google.com/github/danielahernandez29/Curso-IA/blob/main/Perpceptron/PerpceptronNOT.ipynb\" target=\"_parent\"><img src=\"https://colab.research.google.com/assets/colab-badge.svg\" alt=\"Open In Colab\"/></a>"
      ]
    },
    {
      "cell_type": "code",
      "execution_count": 1,
      "metadata": {
        "colab": {
          "base_uri": "https://localhost:8080/"
        },
        "id": "PmO0q8mEYvru",
        "outputId": "1fc7f922-40a5-4f63-cf6e-269e3b8e2383"
      },
      "outputs": [
        {
          "output_type": "stream",
          "name": "stdout",
          "text": [
            "\n",
            "--- Época 1 ---\n",
            "Entrada: 0, Predicción: 1, Peso: -0.5, Sesgo: 0.5\n",
            "Entrada: 1, Predicción: 1, Peso: -0.6, Sesgo: 0.4\n",
            "\n",
            "--- Época 2 ---\n",
            "Entrada: 0, Predicción: 1, Peso: -0.6, Sesgo: 0.4\n",
            "Entrada: 1, Predicción: 0, Peso: -0.6, Sesgo: 0.4\n",
            "\n",
            "--- Época 3 ---\n",
            "Entrada: 0, Predicción: 1, Peso: -0.6, Sesgo: 0.4\n",
            "Entrada: 1, Predicción: 0, Peso: -0.6, Sesgo: 0.4\n",
            "\n",
            "--- Época 4 ---\n",
            "Entrada: 0, Predicción: 1, Peso: -0.6, Sesgo: 0.4\n",
            "Entrada: 1, Predicción: 0, Peso: -0.6, Sesgo: 0.4\n",
            "\n",
            "--- Época 5 ---\n",
            "Entrada: 0, Predicción: 1, Peso: -0.6, Sesgo: 0.4\n",
            "Entrada: 1, Predicción: 0, Peso: -0.6, Sesgo: 0.4\n",
            "\n",
            "--- Época 6 ---\n",
            "Entrada: 0, Predicción: 1, Peso: -0.6, Sesgo: 0.4\n",
            "Entrada: 1, Predicción: 0, Peso: -0.6, Sesgo: 0.4\n",
            "\n",
            "--- Época 7 ---\n",
            "Entrada: 0, Predicción: 1, Peso: -0.6, Sesgo: 0.4\n",
            "Entrada: 1, Predicción: 0, Peso: -0.6, Sesgo: 0.4\n",
            "\n",
            "--- Época 8 ---\n",
            "Entrada: 0, Predicción: 1, Peso: -0.6, Sesgo: 0.4\n",
            "Entrada: 1, Predicción: 0, Peso: -0.6, Sesgo: 0.4\n",
            "\n",
            "--- Época 9 ---\n",
            "Entrada: 0, Predicción: 1, Peso: -0.6, Sesgo: 0.4\n",
            "Entrada: 1, Predicción: 0, Peso: -0.6, Sesgo: 0.4\n",
            "\n",
            "--- Época 10 ---\n",
            "Entrada: 0, Predicción: 1, Peso: -0.6, Sesgo: 0.4\n",
            "Entrada: 1, Predicción: 0, Peso: -0.6, Sesgo: 0.4\n"
          ]
        }
      ],
      "source": [
        "# Se crea la clase\n",
        "class PerceptronNOT:\n",
        "    def __init__(self, peso, sesgo, tasa_de_aprendizaje):\n",
        "        self.peso = peso\n",
        "        self.sesgo = sesgo\n",
        "        self.tasa_de_aprendizaje = tasa_de_aprendizaje\n",
        "\n",
        "    # Función de activación\n",
        "    def funcion_de_activacion(self, z):\n",
        "        if z >= 0:\n",
        "            return 1\n",
        "        else:\n",
        "            return 0\n",
        "\n",
        "    # Entrenamiento (solo una entrada)\n",
        "    def entrenamiento(self, x, y, epocas):\n",
        "        for epoca in range(epocas):\n",
        "            print(f\"\\n--- Época {epoca + 1} ---\")\n",
        "            for i, entrada in enumerate(x):\n",
        "                w = self.peso\n",
        "                b = self.sesgo\n",
        "\n",
        "                # cálculo z = (x * w) + b\n",
        "                z = entrada * w + b\n",
        "\n",
        "                # salida del perceptrón\n",
        "                y_pred = self.funcion_de_activacion(z)\n",
        "\n",
        "\n",
        "                y_real = y[i]\n",
        "\n",
        "                #  actualización\n",
        "                self.peso = w + self.tasa_de_aprendizaje * (y_real - y_pred) * entrada\n",
        "                self.sesgo = b + self.tasa_de_aprendizaje * (y_real - y_pred)\n",
        "\n",
        "                print(f\"Entrada: {entrada}, Predicción: {y_pred}, Peso: {self.peso}, Sesgo: {self.sesgo}\")\n",
        "\n",
        "\n",
        "# NOT → invierte la entrada\n",
        "x = [0, 1]\n",
        "y = [1, 0]\n",
        "\n",
        "# Valores iniciales\n",
        "peso = -0.5\n",
        "sesgo = 0.5\n",
        "tasa_de_aprendizaje = 0.1\n",
        "\n",
        "# Crear y entrenar el modelo NOT\n",
        "p_not = PerceptronNOT(peso, sesgo, tasa_de_aprendizaje)\n",
        "p_not.entrenamiento(x, y, 10)\n"
      ]
    }
  ]
}